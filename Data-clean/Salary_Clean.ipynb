{
 "cells": [
  {
   "cell_type": "code",
   "execution_count": 1,
   "id": "d6f05d15",
   "metadata": {},
   "outputs": [],
   "source": [
    "import pandas as pd\n",
    "import numpy as np"
   ]
  },
  {
   "cell_type": "code",
   "execution_count": 3,
   "id": "5330beb6",
   "metadata": {},
   "outputs": [],
   "source": [
    "salary = pd.read_csv(r'2014-thru-2020-cap-tables.csv')"
   ]
  },
  {
   "cell_type": "code",
   "execution_count": 30,
   "id": "7f35c028",
   "metadata": {},
   "outputs": [
    {
     "data": {
      "text/html": [
       "<div>\n",
       "<style scoped>\n",
       "    .dataframe tbody tr th:only-of-type {\n",
       "        vertical-align: middle;\n",
       "    }\n",
       "\n",
       "    .dataframe tbody tr th {\n",
       "        vertical-align: top;\n",
       "    }\n",
       "\n",
       "    .dataframe thead th {\n",
       "        text-align: right;\n",
       "    }\n",
       "</style>\n",
       "<table border=\"1\" class=\"dataframe\">\n",
       "  <thead>\n",
       "    <tr style=\"text-align: right;\">\n",
       "      <th></th>\n",
       "      <th>name</th>\n",
       "      <th>pos</th>\n",
       "      <th>cap_hit</th>\n",
       "      <th>cap_percent</th>\n",
       "      <th>season</th>\n",
       "      <th>team</th>\n",
       "    </tr>\n",
       "  </thead>\n",
       "  <tbody>\n",
       "    <tr>\n",
       "      <th>0</th>\n",
       "      <td>Russell Wilson</td>\n",
       "      <td>QB</td>\n",
       "      <td>31000000</td>\n",
       "      <td>15.53</td>\n",
       "      <td>2020</td>\n",
       "      <td>seattle-seahawks</td>\n",
       "    </tr>\n",
       "    <tr>\n",
       "      <th>1</th>\n",
       "      <td>Aaron Rodgers</td>\n",
       "      <td>QB</td>\n",
       "      <td>29672000</td>\n",
       "      <td>15.06</td>\n",
       "      <td>2019</td>\n",
       "      <td>green-bay-packers</td>\n",
       "    </tr>\n",
       "    <tr>\n",
       "      <th>2</th>\n",
       "      <td>Kirk Cousins</td>\n",
       "      <td>QB</td>\n",
       "      <td>29000000</td>\n",
       "      <td>15.12</td>\n",
       "      <td>2019</td>\n",
       "      <td>minnesota-vikings</td>\n",
       "    </tr>\n",
       "    <tr>\n",
       "      <th>3</th>\n",
       "      <td>Jared Goff</td>\n",
       "      <td>QB</td>\n",
       "      <td>28842682</td>\n",
       "      <td>14.15</td>\n",
       "      <td>2020</td>\n",
       "      <td>los-angeles-rams</td>\n",
       "    </tr>\n",
       "    <tr>\n",
       "      <th>4</th>\n",
       "      <td>Khalil Mack</td>\n",
       "      <td>OLB</td>\n",
       "      <td>26600000</td>\n",
       "      <td>12.52</td>\n",
       "      <td>2020</td>\n",
       "      <td>chicago-bears</td>\n",
       "    </tr>\n",
       "  </tbody>\n",
       "</table>\n",
       "</div>"
      ],
      "text/plain": [
       "             name  pos   cap_hit  cap_percent  season               team\n",
       "0  Russell Wilson   QB  31000000        15.53    2020   seattle-seahawks\n",
       "1   Aaron Rodgers   QB  29672000        15.06    2019  green-bay-packers\n",
       "2    Kirk Cousins   QB  29000000        15.12    2019  minnesota-vikings\n",
       "3      Jared Goff   QB  28842682        14.15    2020   los-angeles-rams\n",
       "4     Khalil Mack  OLB  26600000        12.52    2020      chicago-bears"
      ]
     },
     "execution_count": 30,
     "metadata": {},
     "output_type": "execute_result"
    }
   ],
   "source": [
    "salary.head()"
   ]
  },
  {
   "cell_type": "code",
   "execution_count": 31,
   "id": "4f666c87",
   "metadata": {},
   "outputs": [],
   "source": [
    "teams_ = salary['team'].astype(str)"
   ]
  },
  {
   "cell_type": "code",
   "execution_count": 32,
   "id": "3daf4022",
   "metadata": {},
   "outputs": [],
   "source": [
    "team_index = teams_.index[0:]\n",
    "teams = []\n",
    "for team in team_index: \n",
    "    hyphen = teams_[team].find('-')\n",
    "    first = teams_[team][:hyphen]\n",
    "    #print(teams_[team].find('-', hyphen+1))\n",
    "    if teams_[team].find('-', hyphen + 1) == -1:\n",
    "        second = teams_[team][hyphen+1:]\n",
    "        new_team = first.capitalize() + ' ' + second.capitalize()\n",
    "    else:\n",
    "        hyphen_2 = teams_[team].find('-', hyphen + 1) \n",
    "        second = teams_[team][hyphen+1:hyphen_2]\n",
    "        last = teams_[team][hyphen_2+1:]\n",
    "        new_team = first.capitalize() + ' ' + second.capitalize() + ' ' + last.capitalize() \n",
    "    teams.append(new_team)"
   ]
  },
  {
   "cell_type": "code",
   "execution_count": 33,
   "id": "aca2b45d",
   "metadata": {},
   "outputs": [],
   "source": [
    "salary['team'] = teams"
   ]
  },
  {
   "cell_type": "code",
   "execution_count": 34,
   "id": "27b19914",
   "metadata": {},
   "outputs": [],
   "source": [
    "salary = salary.rename(columns = {'team': 'Team', 'season':'Year', 'name':'Name', 'cap_hit':'Salary', 'cap_percent':'Cap Percentage'})"
   ]
  },
  {
   "cell_type": "code",
   "execution_count": 36,
   "id": "f85ebf05",
   "metadata": {},
   "outputs": [],
   "source": [
    "salary = salary.drop('pos', axis = 1)"
   ]
  },
  {
   "cell_type": "code",
   "execution_count": 37,
   "id": "afb1375e",
   "metadata": {},
   "outputs": [],
   "source": [
    "names = salary['Name'].astype(str)\n",
    "names_ = []\n",
    "name_in = names.index[0:]\n",
    "for name in names: \n",
    "    space = name.find(' ')\n",
    "    first_name = name[:space]\n",
    "    last_name = name[space + 1:]\n",
    "    full_name = last_name + ',' + ' ' + first_name\n",
    "    names_.append(full_name)"
   ]
  },
  {
   "cell_type": "code",
   "execution_count": 38,
   "id": "4b0d4a40",
   "metadata": {},
   "outputs": [
    {
     "data": {
      "text/html": [
       "<div>\n",
       "<style scoped>\n",
       "    .dataframe tbody tr th:only-of-type {\n",
       "        vertical-align: middle;\n",
       "    }\n",
       "\n",
       "    .dataframe tbody tr th {\n",
       "        vertical-align: top;\n",
       "    }\n",
       "\n",
       "    .dataframe thead th {\n",
       "        text-align: right;\n",
       "    }\n",
       "</style>\n",
       "<table border=\"1\" class=\"dataframe\">\n",
       "  <thead>\n",
       "    <tr style=\"text-align: right;\">\n",
       "      <th></th>\n",
       "      <th>Name</th>\n",
       "      <th>Salary</th>\n",
       "      <th>Cap Percentage</th>\n",
       "      <th>Year</th>\n",
       "      <th>Team</th>\n",
       "    </tr>\n",
       "  </thead>\n",
       "  <tbody>\n",
       "    <tr>\n",
       "      <th>0</th>\n",
       "      <td>Wilson, Russell</td>\n",
       "      <td>31000000</td>\n",
       "      <td>15.53</td>\n",
       "      <td>2020</td>\n",
       "      <td>Seattle Seahawks</td>\n",
       "    </tr>\n",
       "    <tr>\n",
       "      <th>1</th>\n",
       "      <td>Rodgers, Aaron</td>\n",
       "      <td>29672000</td>\n",
       "      <td>15.06</td>\n",
       "      <td>2019</td>\n",
       "      <td>Green Bay Packers</td>\n",
       "    </tr>\n",
       "    <tr>\n",
       "      <th>2</th>\n",
       "      <td>Cousins, Kirk</td>\n",
       "      <td>29000000</td>\n",
       "      <td>15.12</td>\n",
       "      <td>2019</td>\n",
       "      <td>Minnesota Vikings</td>\n",
       "    </tr>\n",
       "    <tr>\n",
       "      <th>3</th>\n",
       "      <td>Goff, Jared</td>\n",
       "      <td>28842682</td>\n",
       "      <td>14.15</td>\n",
       "      <td>2020</td>\n",
       "      <td>Los Angeles Rams</td>\n",
       "    </tr>\n",
       "    <tr>\n",
       "      <th>4</th>\n",
       "      <td>Mack, Khalil</td>\n",
       "      <td>26600000</td>\n",
       "      <td>12.52</td>\n",
       "      <td>2020</td>\n",
       "      <td>Chicago Bears</td>\n",
       "    </tr>\n",
       "    <tr>\n",
       "      <th>...</th>\n",
       "      <td>...</td>\n",
       "      <td>...</td>\n",
       "      <td>...</td>\n",
       "      <td>...</td>\n",
       "      <td>...</td>\n",
       "    </tr>\n",
       "    <tr>\n",
       "      <th>12129</th>\n",
       "      <td>Sherels, Marcus</td>\n",
       "      <td>0</td>\n",
       "      <td>0.00</td>\n",
       "      <td>2019</td>\n",
       "      <td>Miami Dolphins</td>\n",
       "    </tr>\n",
       "    <tr>\n",
       "      <th>12130</th>\n",
       "      <td>Bucannon, Deone</td>\n",
       "      <td>0</td>\n",
       "      <td>0.00</td>\n",
       "      <td>2020</td>\n",
       "      <td>Tampa Bay Buccaneers</td>\n",
       "    </tr>\n",
       "    <tr>\n",
       "      <th>12131</th>\n",
       "      <td>Watford, Earl</td>\n",
       "      <td>0</td>\n",
       "      <td>0.00</td>\n",
       "      <td>2020</td>\n",
       "      <td>Tampa Bay Buccaneers</td>\n",
       "    </tr>\n",
       "    <tr>\n",
       "      <th>12132</th>\n",
       "      <td>Walker, Tyrunn</td>\n",
       "      <td>0</td>\n",
       "      <td>0.00</td>\n",
       "      <td>2018</td>\n",
       "      <td>New Orleans Saints</td>\n",
       "    </tr>\n",
       "    <tr>\n",
       "      <th>12133</th>\n",
       "      <td>Tate, Ben</td>\n",
       "      <td>0</td>\n",
       "      <td>0.00</td>\n",
       "      <td>2014</td>\n",
       "      <td>Pittsburgh Steelers</td>\n",
       "    </tr>\n",
       "  </tbody>\n",
       "</table>\n",
       "<p>12134 rows × 5 columns</p>\n",
       "</div>"
      ],
      "text/plain": [
       "                  Name    Salary  Cap Percentage  Year                  Team\n",
       "0      Wilson, Russell  31000000           15.53  2020      Seattle Seahawks\n",
       "1       Rodgers, Aaron  29672000           15.06  2019     Green Bay Packers\n",
       "2        Cousins, Kirk  29000000           15.12  2019     Minnesota Vikings\n",
       "3          Goff, Jared  28842682           14.15  2020      Los Angeles Rams\n",
       "4         Mack, Khalil  26600000           12.52  2020         Chicago Bears\n",
       "...                ...       ...             ...   ...                   ...\n",
       "12129  Sherels, Marcus         0            0.00  2019        Miami Dolphins\n",
       "12130  Bucannon, Deone         0            0.00  2020  Tampa Bay Buccaneers\n",
       "12131    Watford, Earl         0            0.00  2020  Tampa Bay Buccaneers\n",
       "12132   Walker, Tyrunn         0            0.00  2018    New Orleans Saints\n",
       "12133        Tate, Ben         0            0.00  2014   Pittsburgh Steelers\n",
       "\n",
       "[12134 rows x 5 columns]"
      ]
     },
     "execution_count": 38,
     "metadata": {},
     "output_type": "execute_result"
    }
   ],
   "source": [
    "salary['Name'] = names_\n",
    "salary"
   ]
  },
  {
   "cell_type": "code",
   "execution_count": 39,
   "id": "b006867b",
   "metadata": {},
   "outputs": [],
   "source": [
    "salary = salary[salary['Year'] >= 2014]\n",
    "salary = salary[salary['Year'] <= 2016]"
   ]
  },
  {
   "cell_type": "code",
   "execution_count": 40,
   "id": "cff089f8",
   "metadata": {},
   "outputs": [
    {
     "data": {
      "text/plain": [
       "Name              0\n",
       "Salary            0\n",
       "Cap Percentage    0\n",
       "Year              0\n",
       "Team              0\n",
       "dtype: int64"
      ]
     },
     "execution_count": 40,
     "metadata": {},
     "output_type": "execute_result"
    }
   ],
   "source": [
    "salary.isnull().sum()"
   ]
  },
  {
   "cell_type": "code",
   "execution_count": 41,
   "id": "b7025ea8",
   "metadata": {},
   "outputs": [],
   "source": [
    "salary"
   ]
  },
  {
   "cell_type": "code",
   "execution_count": 42,
   "id": "690900ef",
   "metadata": {},
   "outputs": [],
   "source": [
    "salary.to_csv('salary_clean.csv')"
   ]
  }
 ],
 "metadata": {
  "kernelspec": {
   "display_name": "Python 3 (ipykernel)",
   "language": "python",
   "name": "python3"
  },
  "language_info": {
   "codemirror_mode": {
    "name": "ipython",
    "version": 3
   },
   "file_extension": ".py",
   "mimetype": "text/x-python",
   "name": "python",
   "nbconvert_exporter": "python",
   "pygments_lexer": "ipython3",
   "version": "3.11.4"
  }
 },
 "nbformat": 4,
 "nbformat_minor": 5
}
