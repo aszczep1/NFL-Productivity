{
 "cells": [
  {
   "cell_type": "code",
   "execution_count": 1,
   "id": "5fa94162",
   "metadata": {},
   "outputs": [],
   "source": [
    "import pandas as pd\n",
    "import numpy as np"
   ]
  },
  {
   "cell_type": "code",
   "execution_count": 2,
   "id": "6474458e",
   "metadata": {},
   "outputs": [],
   "source": [
    "qbr = pd.read_csv(r'QBR_index.csv')"
   ]
  },
  {
   "cell_type": "code",
   "execution_count": 3,
   "id": "af6e9125",
   "metadata": {},
   "outputs": [],
   "source": [
    "teams = pd.read_csv(r'team_key.csv')"
   ]
  },
  {
   "cell_type": "code",
   "execution_count": 4,
   "id": "cf6da24b",
   "metadata": {},
   "outputs": [
    {
     "data": {
      "text/html": [
       "<div>\n",
       "<style scoped>\n",
       "    .dataframe tbody tr th:only-of-type {\n",
       "        vertical-align: middle;\n",
       "    }\n",
       "\n",
       "    .dataframe tbody tr th {\n",
       "        vertical-align: top;\n",
       "    }\n",
       "\n",
       "    .dataframe thead th {\n",
       "        text-align: right;\n",
       "    }\n",
       "</style>\n",
       "<table border=\"1\" class=\"dataframe\">\n",
       "  <thead>\n",
       "    <tr style=\"text-align: right;\">\n",
       "      <th></th>\n",
       "      <th>RK</th>\n",
       "      <th>NAME</th>\n",
       "      <th>WEEK</th>\n",
       "      <th>RESULT</th>\n",
       "      <th>QBR</th>\n",
       "      <th>PAA</th>\n",
       "      <th>PLAYS</th>\n",
       "      <th>EPA</th>\n",
       "      <th>PASS</th>\n",
       "      <th>RUN</th>\n",
       "      <th>SACK</th>\n",
       "      <th>PEN</th>\n",
       "      <th>RAW</th>\n",
       "      <th>YEAR</th>\n",
       "    </tr>\n",
       "  </thead>\n",
       "  <tbody>\n",
       "    <tr>\n",
       "      <th>0</th>\n",
       "      <td>1.0</td>\n",
       "      <td>Colin KaepernickSF</td>\n",
       "      <td>1</td>\n",
       "      <td>W28-17at DAL</td>\n",
       "      <td>95.3</td>\n",
       "      <td>6.2</td>\n",
       "      <td>29</td>\n",
       "      <td>4.7</td>\n",
       "      <td>4.2</td>\n",
       "      <td>0.0</td>\n",
       "      <td>-0.3</td>\n",
       "      <td>0.2</td>\n",
       "      <td>95.3</td>\n",
       "      <td>2014</td>\n",
       "    </tr>\n",
       "    <tr>\n",
       "      <th>1</th>\n",
       "      <td>2.0</td>\n",
       "      <td>Matthew StaffordDET</td>\n",
       "      <td>1</td>\n",
       "      <td>W35-14vs. NYG</td>\n",
       "      <td>93.1</td>\n",
       "      <td>7.5</td>\n",
       "      <td>38</td>\n",
       "      <td>9.1</td>\n",
       "      <td>7.6</td>\n",
       "      <td>1.2</td>\n",
       "      <td>-0.3</td>\n",
       "      <td>-0.1</td>\n",
       "      <td>94.2</td>\n",
       "      <td>2014</td>\n",
       "    </tr>\n",
       "    <tr>\n",
       "      <th>2</th>\n",
       "      <td>3.0</td>\n",
       "      <td>Peyton ManningDEN</td>\n",
       "      <td>1</td>\n",
       "      <td>W31-24vs. IND</td>\n",
       "      <td>90.0</td>\n",
       "      <td>4.7</td>\n",
       "      <td>40</td>\n",
       "      <td>6.8</td>\n",
       "      <td>6.4</td>\n",
       "      <td>0.0</td>\n",
       "      <td>-0.3</td>\n",
       "      <td>0.1</td>\n",
       "      <td>84.1</td>\n",
       "      <td>2014</td>\n",
       "    </tr>\n",
       "    <tr>\n",
       "      <th>3</th>\n",
       "      <td>4.0</td>\n",
       "      <td>Russell WilsonSEA</td>\n",
       "      <td>1</td>\n",
       "      <td>W36-16vs. GB</td>\n",
       "      <td>85.2</td>\n",
       "      <td>4.4</td>\n",
       "      <td>35</td>\n",
       "      <td>6.4</td>\n",
       "      <td>5.0</td>\n",
       "      <td>0.8</td>\n",
       "      <td>-0.2</td>\n",
       "      <td>0.4</td>\n",
       "      <td>85.7</td>\n",
       "      <td>2014</td>\n",
       "    </tr>\n",
       "    <tr>\n",
       "      <th>4</th>\n",
       "      <td>5.0</td>\n",
       "      <td>Matt RyanATL</td>\n",
       "      <td>1</td>\n",
       "      <td>W37-34vs. NO</td>\n",
       "      <td>85.1</td>\n",
       "      <td>7.9</td>\n",
       "      <td>50</td>\n",
       "      <td>12.3</td>\n",
       "      <td>10.9</td>\n",
       "      <td>0.7</td>\n",
       "      <td>-0.3</td>\n",
       "      <td>0.4</td>\n",
       "      <td>90.2</td>\n",
       "      <td>2014</td>\n",
       "    </tr>\n",
       "  </tbody>\n",
       "</table>\n",
       "</div>"
      ],
      "text/plain": [
       "    RK                 NAME  WEEK         RESULT   QBR  PAA  PLAYS   EPA  \\\n",
       "0  1.0   Colin KaepernickSF     1   W28-17at DAL  95.3  6.2     29   4.7   \n",
       "1  2.0  Matthew StaffordDET     1  W35-14vs. NYG  93.1  7.5     38   9.1   \n",
       "2  3.0    Peyton ManningDEN     1  W31-24vs. IND  90.0  4.7     40   6.8   \n",
       "3  4.0    Russell WilsonSEA     1   W36-16vs. GB  85.2  4.4     35   6.4   \n",
       "4  5.0         Matt RyanATL     1   W37-34vs. NO  85.1  7.9     50  12.3   \n",
       "\n",
       "   PASS  RUN  SACK  PEN   RAW  YEAR  \n",
       "0   4.2  0.0  -0.3  0.2  95.3  2014  \n",
       "1   7.6  1.2  -0.3 -0.1  94.2  2014  \n",
       "2   6.4  0.0  -0.3  0.1  84.1  2014  \n",
       "3   5.0  0.8  -0.2  0.4  85.7  2014  \n",
       "4  10.9  0.7  -0.3  0.4  90.2  2014  "
      ]
     },
     "execution_count": 4,
     "metadata": {},
     "output_type": "execute_result"
    }
   ],
   "source": [
    "qbr.head()"
   ]
  },
  {
   "cell_type": "code",
   "execution_count": 5,
   "id": "bfd25a9c",
   "metadata": {},
   "outputs": [],
   "source": [
    "col_drop = ['RESULT', 'PAA', 'PLAYS', 'EPA', 'PASS', 'RUN', 'SACK', 'PEN', 'RAW', 'RK']"
   ]
  },
  {
   "cell_type": "code",
   "execution_count": 6,
   "id": "3bb3e094",
   "metadata": {},
   "outputs": [],
   "source": [
    "qbr = qbr.drop(col_drop, axis = 1)"
   ]
  },
  {
   "cell_type": "code",
   "execution_count": 7,
   "id": "acaf5feb",
   "metadata": {},
   "outputs": [],
   "source": [
    "qbr = qbr.rename(columns = {'NAME':'Name', 'WEEK':'Week', 'YEAR':'Year'})"
   ]
  },
  {
   "cell_type": "code",
   "execution_count": 8,
   "id": "425b6b03",
   "metadata": {},
   "outputs": [
    {
     "name": "stdout",
     "output_type": "stream",
     "text": [
      "TBCARARIHOUMIAGBTENBUFCLENOSEADETATLNYJOAKNYGDALBALPHICINWASSTLINDNESDJACMINSFPITCHIKCDENJAXLA\n"
     ]
    }
   ],
   "source": [
    "team_list = list(teams['Opponent'])\n",
    "team_string = \"\"\n",
    "for team in team_list:\n",
    "    team_string += team\n",
    "print(team_string)"
   ]
  },
  {
   "cell_type": "code",
   "execution_count": 9,
   "id": "c4d7173c",
   "metadata": {},
   "outputs": [],
   "source": [
    "qbr['Name'] = qbr['Name'].str.rstrip(team_string)"
   ]
  },
  {
   "cell_type": "code",
   "execution_count": 10,
   "id": "1855c674",
   "metadata": {},
   "outputs": [],
   "source": [
    "names = qbr['Name'].astype(str)\n",
    "names_ = []\n",
    "name_in = names.index[0:]\n",
    "for name in names: \n",
    "    space = name.find(' ')\n",
    "    first_name = name[:space]\n",
    "    last_name = name[space + 1:]\n",
    "    full_name = last_name + ',' + ' ' + first_name\n",
    "    names_.append(full_name)"
   ]
  },
  {
   "cell_type": "code",
   "execution_count": 11,
   "id": "15267430",
   "metadata": {},
   "outputs": [
    {
     "data": {
      "text/html": [
       "<div>\n",
       "<style scoped>\n",
       "    .dataframe tbody tr th:only-of-type {\n",
       "        vertical-align: middle;\n",
       "    }\n",
       "\n",
       "    .dataframe tbody tr th {\n",
       "        vertical-align: top;\n",
       "    }\n",
       "\n",
       "    .dataframe thead th {\n",
       "        text-align: right;\n",
       "    }\n",
       "</style>\n",
       "<table border=\"1\" class=\"dataframe\">\n",
       "  <thead>\n",
       "    <tr style=\"text-align: right;\">\n",
       "      <th></th>\n",
       "      <th>Name</th>\n",
       "      <th>Week</th>\n",
       "      <th>QBR</th>\n",
       "      <th>Year</th>\n",
       "    </tr>\n",
       "  </thead>\n",
       "  <tbody>\n",
       "    <tr>\n",
       "      <th>0</th>\n",
       "      <td>Kaepernick, Colin</td>\n",
       "      <td>1</td>\n",
       "      <td>95.3</td>\n",
       "      <td>2014</td>\n",
       "    </tr>\n",
       "    <tr>\n",
       "      <th>1</th>\n",
       "      <td>Stafford, Matthew</td>\n",
       "      <td>1</td>\n",
       "      <td>93.1</td>\n",
       "      <td>2014</td>\n",
       "    </tr>\n",
       "    <tr>\n",
       "      <th>2</th>\n",
       "      <td>Manning, Peyton</td>\n",
       "      <td>1</td>\n",
       "      <td>90.0</td>\n",
       "      <td>2014</td>\n",
       "    </tr>\n",
       "    <tr>\n",
       "      <th>3</th>\n",
       "      <td>Wilson, Russell</td>\n",
       "      <td>1</td>\n",
       "      <td>85.2</td>\n",
       "      <td>2014</td>\n",
       "    </tr>\n",
       "    <tr>\n",
       "      <th>4</th>\n",
       "      <td>Ryan, Matt</td>\n",
       "      <td>1</td>\n",
       "      <td>85.1</td>\n",
       "      <td>2014</td>\n",
       "    </tr>\n",
       "    <tr>\n",
       "      <th>...</th>\n",
       "      <td>...</td>\n",
       "      <td>...</td>\n",
       "      <td>...</td>\n",
       "      <td>...</td>\n",
       "    </tr>\n",
       "    <tr>\n",
       "      <th>1593</th>\n",
       "      <td>Ryan, Matt</td>\n",
       "      <td>20</td>\n",
       "      <td>97.2</td>\n",
       "      <td>2016</td>\n",
       "    </tr>\n",
       "    <tr>\n",
       "      <th>1594</th>\n",
       "      <td>Brady, Tom</td>\n",
       "      <td>20</td>\n",
       "      <td>89.6</td>\n",
       "      <td>2016</td>\n",
       "    </tr>\n",
       "    <tr>\n",
       "      <th>1595</th>\n",
       "      <td>Rodgers, Aaron</td>\n",
       "      <td>20</td>\n",
       "      <td>86.1</td>\n",
       "      <td>2016</td>\n",
       "    </tr>\n",
       "    <tr>\n",
       "      <th>1596</th>\n",
       "      <td>Ryan, Matt</td>\n",
       "      <td>22</td>\n",
       "      <td>81.0</td>\n",
       "      <td>2016</td>\n",
       "    </tr>\n",
       "    <tr>\n",
       "      <th>1597</th>\n",
       "      <td>Brady, Tom</td>\n",
       "      <td>22</td>\n",
       "      <td>75.8</td>\n",
       "      <td>2016</td>\n",
       "    </tr>\n",
       "  </tbody>\n",
       "</table>\n",
       "<p>1598 rows × 4 columns</p>\n",
       "</div>"
      ],
      "text/plain": [
       "                   Name  Week   QBR  Year\n",
       "0     Kaepernick, Colin     1  95.3  2014\n",
       "1     Stafford, Matthew     1  93.1  2014\n",
       "2       Manning, Peyton     1  90.0  2014\n",
       "3       Wilson, Russell     1  85.2  2014\n",
       "4            Ryan, Matt     1  85.1  2014\n",
       "...                 ...   ...   ...   ...\n",
       "1593         Ryan, Matt    20  97.2  2016\n",
       "1594         Brady, Tom    20  89.6  2016\n",
       "1595     Rodgers, Aaron    20  86.1  2016\n",
       "1596         Ryan, Matt    22  81.0  2016\n",
       "1597         Brady, Tom    22  75.8  2016\n",
       "\n",
       "[1598 rows x 4 columns]"
      ]
     },
     "execution_count": 11,
     "metadata": {},
     "output_type": "execute_result"
    }
   ],
   "source": [
    "qbr['Name'] = names_\n",
    "qbr"
   ]
  },
  {
   "cell_type": "code",
   "execution_count": 12,
   "id": "92603e18",
   "metadata": {},
   "outputs": [
    {
     "name": "stdout",
     "output_type": "stream",
     "text": [
      "<class 'numpy.int64'>\n"
     ]
    }
   ],
   "source": [
    "print(type(qbr['Year'][1]))"
   ]
  },
  {
   "cell_type": "code",
   "execution_count": 13,
   "id": "46470301",
   "metadata": {},
   "outputs": [
    {
     "data": {
      "text/plain": [
       "Name    False\n",
       "Week    False\n",
       "QBR     False\n",
       "Year    False\n",
       "dtype: bool"
      ]
     },
     "execution_count": 13,
     "metadata": {},
     "output_type": "execute_result"
    }
   ],
   "source": [
    "qbr.isnull().any()"
   ]
  },
  {
   "cell_type": "code",
   "execution_count": 14,
   "id": "a8254dd1",
   "metadata": {},
   "outputs": [],
   "source": [
    "qbr.to_csv('qbr_clean.csv')"
   ]
  }
 ],
 "metadata": {
  "kernelspec": {
   "display_name": "Python 3 (ipykernel)",
   "language": "python",
   "name": "python3"
  },
  "language_info": {
   "codemirror_mode": {
    "name": "ipython",
    "version": 3
   },
   "file_extension": ".py",
   "mimetype": "text/x-python",
   "name": "python",
   "nbconvert_exporter": "python",
   "pygments_lexer": "ipython3",
   "version": "3.11.4"
  }
 },
 "nbformat": 4,
 "nbformat_minor": 5
}
