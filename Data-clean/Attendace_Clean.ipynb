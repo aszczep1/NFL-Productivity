{
 "cells": [
  {
   "cell_type": "code",
   "execution_count": 2,
   "id": "2d43b3f5",
   "metadata": {},
   "outputs": [],
   "source": [
    "import pandas as pd\n",
    "import numpy as np\n",
    "import datetime"
   ]
  },
  {
   "cell_type": "code",
   "execution_count": 3,
   "id": "7a475bc2",
   "metadata": {},
   "outputs": [],
   "source": [
    "attendance = pd.read_csv(r'attendance_2.csv')"
   ]
  },
  {
   "cell_type": "code",
   "execution_count": 3,
   "id": "83b678bf",
   "metadata": {
    "scrolled": true
   },
   "outputs": [
    {
     "data": {
      "text/html": [
       "<div>\n",
       "<style scoped>\n",
       "    .dataframe tbody tr th:only-of-type {\n",
       "        vertical-align: middle;\n",
       "    }\n",
       "\n",
       "    .dataframe tbody tr th {\n",
       "        vertical-align: top;\n",
       "    }\n",
       "\n",
       "    .dataframe thead th {\n",
       "        text-align: right;\n",
       "    }\n",
       "</style>\n",
       "<table border=\"1\" class=\"dataframe\">\n",
       "  <thead>\n",
       "    <tr style=\"text-align: right;\">\n",
       "      <th></th>\n",
       "      <th>team</th>\n",
       "      <th>team_name</th>\n",
       "      <th>year</th>\n",
       "      <th>total</th>\n",
       "      <th>home</th>\n",
       "      <th>away</th>\n",
       "      <th>week</th>\n",
       "      <th>weekly_attendance</th>\n",
       "    </tr>\n",
       "  </thead>\n",
       "  <tbody>\n",
       "    <tr>\n",
       "      <th>0</th>\n",
       "      <td>Arizona</td>\n",
       "      <td>Cardinals</td>\n",
       "      <td>2000</td>\n",
       "      <td>893926</td>\n",
       "      <td>387475</td>\n",
       "      <td>506451</td>\n",
       "      <td>1</td>\n",
       "      <td>77434.0</td>\n",
       "    </tr>\n",
       "    <tr>\n",
       "      <th>1</th>\n",
       "      <td>Arizona</td>\n",
       "      <td>Cardinals</td>\n",
       "      <td>2000</td>\n",
       "      <td>893926</td>\n",
       "      <td>387475</td>\n",
       "      <td>506451</td>\n",
       "      <td>2</td>\n",
       "      <td>66009.0</td>\n",
       "    </tr>\n",
       "    <tr>\n",
       "      <th>2</th>\n",
       "      <td>Arizona</td>\n",
       "      <td>Cardinals</td>\n",
       "      <td>2000</td>\n",
       "      <td>893926</td>\n",
       "      <td>387475</td>\n",
       "      <td>506451</td>\n",
       "      <td>3</td>\n",
       "      <td>NaN</td>\n",
       "    </tr>\n",
       "    <tr>\n",
       "      <th>3</th>\n",
       "      <td>Arizona</td>\n",
       "      <td>Cardinals</td>\n",
       "      <td>2000</td>\n",
       "      <td>893926</td>\n",
       "      <td>387475</td>\n",
       "      <td>506451</td>\n",
       "      <td>4</td>\n",
       "      <td>71801.0</td>\n",
       "    </tr>\n",
       "    <tr>\n",
       "      <th>4</th>\n",
       "      <td>Arizona</td>\n",
       "      <td>Cardinals</td>\n",
       "      <td>2000</td>\n",
       "      <td>893926</td>\n",
       "      <td>387475</td>\n",
       "      <td>506451</td>\n",
       "      <td>5</td>\n",
       "      <td>66985.0</td>\n",
       "    </tr>\n",
       "  </tbody>\n",
       "</table>\n",
       "</div>"
      ],
      "text/plain": [
       "      team  team_name  year   total    home    away  week  weekly_attendance\n",
       "0  Arizona  Cardinals  2000  893926  387475  506451     1            77434.0\n",
       "1  Arizona  Cardinals  2000  893926  387475  506451     2            66009.0\n",
       "2  Arizona  Cardinals  2000  893926  387475  506451     3                NaN\n",
       "3  Arizona  Cardinals  2000  893926  387475  506451     4            71801.0\n",
       "4  Arizona  Cardinals  2000  893926  387475  506451     5            66985.0"
      ]
     },
     "execution_count": 3,
     "metadata": {},
     "output_type": "execute_result"
    }
   ],
   "source": [
    "attendance.head()"
   ]
  },
  {
   "cell_type": "code",
   "execution_count": 4,
   "id": "b33e25bb",
   "metadata": {},
   "outputs": [],
   "source": [
    "attendance['Team'] = attendance['team'] +' ' + attendance['team_name']"
   ]
  },
  {
   "cell_type": "code",
   "execution_count": 5,
   "id": "933c60bc",
   "metadata": {},
   "outputs": [],
   "source": [
    "attend_drop = ['team', 'team_name', 'total', 'home', 'away']"
   ]
  },
  {
   "cell_type": "code",
   "execution_count": 6,
   "id": "e30c1a66",
   "metadata": {},
   "outputs": [],
   "source": [
    "attendance = attendance.drop(attend_drop, axis = 1)"
   ]
  },
  {
   "cell_type": "code",
   "execution_count": 7,
   "id": "6b64b470",
   "metadata": {},
   "outputs": [],
   "source": [
    "attendance = attendance.rename(columns = {'year': 'Year', 'week':'Week'})"
   ]
  },
  {
   "cell_type": "code",
   "execution_count": 8,
   "id": "7c3afa23",
   "metadata": {},
   "outputs": [
    {
     "name": "stdout",
     "output_type": "stream",
     "text": [
      "67582.63539030563\n"
     ]
    }
   ],
   "source": [
    "avg_attend = attendance.dropna()\n",
    "average_attend = avg_attend['weekly_attendance'].mean(axis = 0)\n",
    "print(average_attend)"
   ]
  },
  {
   "cell_type": "code",
   "execution_count": 9,
   "id": "c3019f8e",
   "metadata": {},
   "outputs": [],
   "source": [
    "attendance.fillna(value = average_attend, inplace = True)"
   ]
  },
  {
   "cell_type": "code",
   "execution_count": 10,
   "id": "5c041f26",
   "metadata": {},
   "outputs": [],
   "source": [
    "attendance = attendance[attendance['Year'] >= 2014]\n",
    "attendance = attendance[attendance['Year'] <= 2016]"
   ]
  },
  {
   "cell_type": "code",
   "execution_count": 11,
   "id": "9f31c292",
   "metadata": {},
   "outputs": [
    {
     "data": {
      "text/plain": [
       "Year                 0\n",
       "Week                 0\n",
       "weekly_attendance    0\n",
       "Team                 0\n",
       "dtype: int64"
      ]
     },
     "execution_count": 11,
     "metadata": {},
     "output_type": "execute_result"
    }
   ],
   "source": [
    "attendance.isnull().sum()"
   ]
  },
  {
   "cell_type": "code",
   "execution_count": 12,
   "id": "cf881016",
   "metadata": {},
   "outputs": [
    {
     "data": {
      "text/html": [
       "<div>\n",
       "<style scoped>\n",
       "    .dataframe tbody tr th:only-of-type {\n",
       "        vertical-align: middle;\n",
       "    }\n",
       "\n",
       "    .dataframe tbody tr th {\n",
       "        vertical-align: top;\n",
       "    }\n",
       "\n",
       "    .dataframe thead th {\n",
       "        text-align: right;\n",
       "    }\n",
       "</style>\n",
       "<table border=\"1\" class=\"dataframe\">\n",
       "  <thead>\n",
       "    <tr style=\"text-align: right;\">\n",
       "      <th></th>\n",
       "      <th>Year</th>\n",
       "      <th>Week</th>\n",
       "      <th>weekly_attendance</th>\n",
       "      <th>Team</th>\n",
       "    </tr>\n",
       "  </thead>\n",
       "  <tbody>\n",
       "    <tr>\n",
       "      <th>7582</th>\n",
       "      <td>2014</td>\n",
       "      <td>1</td>\n",
       "      <td>61292.00000</td>\n",
       "      <td>Arizona Cardinals</td>\n",
       "    </tr>\n",
       "    <tr>\n",
       "      <th>7583</th>\n",
       "      <td>2014</td>\n",
       "      <td>2</td>\n",
       "      <td>78344.00000</td>\n",
       "      <td>Arizona Cardinals</td>\n",
       "    </tr>\n",
       "    <tr>\n",
       "      <th>7584</th>\n",
       "      <td>2014</td>\n",
       "      <td>3</td>\n",
       "      <td>61572.00000</td>\n",
       "      <td>Arizona Cardinals</td>\n",
       "    </tr>\n",
       "    <tr>\n",
       "      <th>7585</th>\n",
       "      <td>2014</td>\n",
       "      <td>4</td>\n",
       "      <td>67582.63539</td>\n",
       "      <td>Arizona Cardinals</td>\n",
       "    </tr>\n",
       "    <tr>\n",
       "      <th>7586</th>\n",
       "      <td>2014</td>\n",
       "      <td>5</td>\n",
       "      <td>76895.00000</td>\n",
       "      <td>Arizona Cardinals</td>\n",
       "    </tr>\n",
       "    <tr>\n",
       "      <th>...</th>\n",
       "      <td>...</td>\n",
       "      <td>...</td>\n",
       "      <td>...</td>\n",
       "      <td>...</td>\n",
       "    </tr>\n",
       "    <tr>\n",
       "      <th>10907</th>\n",
       "      <td>2016</td>\n",
       "      <td>20</td>\n",
       "      <td>66829.00000</td>\n",
       "      <td>New England Patriots</td>\n",
       "    </tr>\n",
       "    <tr>\n",
       "      <th>10908</th>\n",
       "      <td>2016</td>\n",
       "      <td>20</td>\n",
       "      <td>71127.00000</td>\n",
       "      <td>Green Bay Packers</td>\n",
       "    </tr>\n",
       "    <tr>\n",
       "      <th>10909</th>\n",
       "      <td>2016</td>\n",
       "      <td>20</td>\n",
       "      <td>66829.00000</td>\n",
       "      <td>Pittsburgh Steelers</td>\n",
       "    </tr>\n",
       "    <tr>\n",
       "      <th>10910</th>\n",
       "      <td>2016</td>\n",
       "      <td>22</td>\n",
       "      <td>70807.00000</td>\n",
       "      <td>New England Patriots</td>\n",
       "    </tr>\n",
       "    <tr>\n",
       "      <th>10911</th>\n",
       "      <td>2016</td>\n",
       "      <td>22</td>\n",
       "      <td>70807.00000</td>\n",
       "      <td>Atlanta Falcons</td>\n",
       "    </tr>\n",
       "  </tbody>\n",
       "</table>\n",
       "<p>1698 rows × 4 columns</p>\n",
       "</div>"
      ],
      "text/plain": [
       "       Year  Week  weekly_attendance                  Team\n",
       "7582   2014     1        61292.00000     Arizona Cardinals\n",
       "7583   2014     2        78344.00000     Arizona Cardinals\n",
       "7584   2014     3        61572.00000     Arizona Cardinals\n",
       "7585   2014     4        67582.63539     Arizona Cardinals\n",
       "7586   2014     5        76895.00000     Arizona Cardinals\n",
       "...     ...   ...                ...                   ...\n",
       "10907  2016    20        66829.00000  New England Patriots\n",
       "10908  2016    20        71127.00000     Green Bay Packers\n",
       "10909  2016    20        66829.00000   Pittsburgh Steelers\n",
       "10910  2016    22        70807.00000  New England Patriots\n",
       "10911  2016    22        70807.00000       Atlanta Falcons\n",
       "\n",
       "[1698 rows x 4 columns]"
      ]
     },
     "execution_count": 12,
     "metadata": {},
     "output_type": "execute_result"
    }
   ],
   "source": [
    "attendance"
   ]
  },
  {
   "cell_type": "code",
   "execution_count": 13,
   "id": "4c37e7c8",
   "metadata": {},
   "outputs": [],
   "source": [
    "attendance = attendance.rename(columns = {'weekly_attendance':'Attendance'})"
   ]
  },
  {
   "cell_type": "code",
   "execution_count": 14,
   "id": "37884d29",
   "metadata": {},
   "outputs": [],
   "source": [
    "attendance.to_csv('attendance_cleaned.csv')"
   ]
  }
 ],
 "metadata": {
  "kernelspec": {
   "display_name": "Python 3 (ipykernel)",
   "language": "python",
   "name": "python3"
  },
  "language_info": {
   "codemirror_mode": {
    "name": "ipython",
    "version": 3
   },
   "file_extension": ".py",
   "mimetype": "text/x-python",
   "name": "python",
   "nbconvert_exporter": "python",
   "pygments_lexer": "ipython3",
   "version": "3.11.4"
  }
 },
 "nbformat": 4,
 "nbformat_minor": 5
}
